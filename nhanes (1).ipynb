{
  "nbformat": 4,
  "nbformat_minor": 0,
  "metadata": {
    "colab": {
      "provenance": []
    },
    "kernelspec": {
      "name": "python3",
      "display_name": "Python 3"
    },
    "language_info": {
      "name": "python"
    }
  },
  "cells": [
    {
      "cell_type": "code",
      "execution_count": 1,
      "metadata": {
        "id": "KcWmec-ioVP0"
      },
      "outputs": [],
      "source": [
        "import pandas as pd\n",
        "import numpy as np\n",
        "from sklearn.model_selection import train_test_split\n",
        "from sklearn.preprocessing import StandardScaler\n",
        "from sklearn.linear_model import LogisticRegression\n",
        "from sklearn.metrics import accuracy_score, precision_score, recall_score, f1_score, roc_auc_score, r2_score\n",
        "from sklearn.neighbors import KNeighborsClassifier\n",
        "from sklearn.svm import SVC\n",
        "from sklearn.tree import DecisionTreeClassifier\n",
        "from sklearn.neural_network import MLPClassifier\n"
      ]
    },
    {
      "cell_type": "code",
      "source": [
        "nhanes_data = pd.read_csv('/content/P_DEMO.csv')\n",
        "\n",
        "demographics_cols = ['SEQN', 'Age', 'Gender']\n",
        "cardio_cols = ['SEQN', 'HeartConditionVar1', 'HeartConditionVar2', ...]\n",
        "merged_data = pd.merge(nhanes_data[demographics_cols], nhanes_data[cardio_cols], on='SEQN', how='inner')\n",
        "\n",
        "age_ranges = [(10, 20), (21, 30), (31, 40), (41, 50), (51, 60), (61, 70), (70, 200)]\n",
        "\n",
        "for age_range in age_ranges:\n",
        "    filtered_data = merged_data[(merged_data['Age'] >= age_range[0]) & (merged_data['Age'] <= age_range[1])]\n",
        "    print(f\"Patients in age range {age_range}: {len(filtered_data)}\")\n"
      ],
      "metadata": {
        "id": "9cD-0b9joZyR"
      },
      "execution_count": 2,
      "outputs": []
    },
    {
      "cell_type": "code",
      "source": [
        "\n",
        "X = merged_data.drop(['SEQN', 'HeartConditionVar1', 'HeartConditionVar2', ...], axis=1)\n",
        "y = merged_data['HeartConditionVar1']\n",
        "\n",
        "\n",
        "X_train, X_test, y_train, y_test = train_test_split(X, y, test_size=0.2, random_state=42)\n",
        "\n",
        "\n",
        "scaler = StandardScaler()\n",
        "X_train_scaled = scaler.fit_transform(X_train)\n",
        "X_test_scaled = scaler.transform(X_test)\n",
        "\n",
        "\n",
        "models = {\n",
        "    'Logistic Regression': LogisticRegression(),\n",
        "    'K-NN': KNeighborsClassifier(),\n",
        "    'SVM': SVC(),\n",
        "    'Decision Tree': DecisionTreeClassifier(),\n",
        "    'ANN': MLPClassifier()\n",
        "}\n",
        "\n",
        "for name, model in models.items():\n",
        "    model.fit(X_train_scaled, y_train)\n",
        "    y_pred = model.predict(X_test_scaled)\n",
        "\n",
        "    accuracy = accuracy_score(y_test, y_pred)\n",
        "    precision = precision_score(y_test, y_pred)\n",
        "    recall = recall_score(y_test, y_pred)\n",
        "    f1 = f1_score(y_test, y_pred)\n",
        "    auc = roc_auc_score(y_test, y_pred)\n",
        "    r2 = r2_score(y_test, y_pred)\n",
        "\n",
        "    print(f\"Metrics for {name}:\")\n",
        "    print(f\"Accuracy: {accuracy}\")\n",
        "    print(f\"Precision: {precision}\")\n",
        "    print(f\"Recall: {recall}\")\n",
        "    print(f\"F1 Score: {f1}\")\n",
        "    print(f\"AUC: {auc}\")\n",
        "    print(f\"R2 Score: {r2}\")\n",
        "    print(\"--------------\")\n"
      ],
      "metadata": {
        "id": "_i222kH3pmQd"
      },
      "execution_count": null,
      "outputs": []
    },
    {
      "cell_type": "code",
      "source": [
        "\n",
        "male_count = merged_data[merged_data['Gender'] == 'Male'].shape[0]\n",
        "female_count = merged_data[merged_data['Gender'] == 'Female'].shape[0]\n",
        "\n",
        "\n",
        "print(f\"Males in the dataset: {male_count}\")\n",
        "print(f\"Females in the dataset: {female_count}\")\n"
      ],
      "metadata": {
        "id": "Rwzywm6Hp3gO"
      },
      "execution_count": null,
      "outputs": []
    },
    {
      "cell_type": "code",
      "source": [
        "\n",
        "heart_condition_count = merged_data[merged_data['HeartConditionVar1'] == 1].shape[0]\n",
        "\n",
        "males_with_heart_condition = merged_data[(merged_data['Gender'] == 'Male') & (merged_data['HeartConditionVar1'] == 1)].shape[0]\n",
        "females_with_heart_condition = merged_data[(merged_data['Gender'] == 'Female') & (merged_data['HeartConditionVar1'] == 1)].shape[0]\n",
        "\n",
        "print(f\"People with heart conditions: {heart_condition_count}\")\n",
        "print(f\"Males with heart conditions: {males_with_heart_condition}\")\n",
        "print(f\"Females with heart conditions: {females_with_heart_condition}\")\n"
      ],
      "metadata": {
        "id": "HqVEMXEKp_XL"
      },
      "execution_count": null,
      "outputs": []
    }
  ]
}